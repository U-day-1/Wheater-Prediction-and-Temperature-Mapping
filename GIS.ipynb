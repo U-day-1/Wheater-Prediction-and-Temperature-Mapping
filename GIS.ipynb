{
 "cells": [
  {
   "cell_type": "code",
   "execution_count": 1,
   "metadata": {
    "id": "CIKrzb_mLGzZ"
   },
   "outputs": [],
   "source": [
    "import pandas as pd\n",
    "import seaborn as sns\n",
    "import matplotlib.pyplot as plt\n",
    "from sklearn.metrics import confusion_matrix\n",
    "from sklearn.model_selection import train_test_split\n",
    "from sklearn.preprocessing import StandardScaler, LabelEncoder\n",
    "from sklearn.ensemble import RandomForestClassifier\n",
    "from sklearn.metrics import accuracy_score, classification_report"
   ]
  },
  {
   "cell_type": "code",
   "execution_count": 4,
   "metadata": {
    "id": "e8UR_WKaTAh4"
   },
   "outputs": [],
   "source": [
    "# Load the dataset\n",
    "data = pd.read_csv(\"C:/Users/uday8/Documents/SEM_6/GIS/Project/IndianWeatherRepository.csv\")"
   ]
  },
  {
   "cell_type": "code",
   "execution_count": 5,
   "metadata": {
    "colab": {
     "base_uri": "https://localhost:8080/"
    },
    "id": "7iYrttHDr-8M",
    "outputId": "b1875fad-7ee7-40fd-f254-07c42ed00bb2"
   },
   "outputs": [
    {
     "name": "stdout",
     "output_type": "stream",
     "text": [
      "  country location_name          region  latitude  longitude      timezone  \\\n",
      "0   India    Ashoknagar  Madhya Pradesh     24.57      77.72  Asia/Kolkata   \n",
      "1   India        Raisen  Madhya Pradesh     23.33      77.80  Asia/Kolkata   \n",
      "2   India    Chhindwara  Madhya Pradesh     22.07      78.93  Asia/Kolkata   \n",
      "3   India         Betul  Madhya Pradesh     21.86      77.93  Asia/Kolkata   \n",
      "4   India   Hoshangabad  Madhya Pradesh     22.75      77.72  Asia/Kolkata   \n",
      "\n",
      "   last_updated_epoch      last_updated  temperature_celsius  \\\n",
      "0          1693286100  2023-08-29 10:45                 27.5   \n",
      "1          1693286100  2023-08-29 10:45                 27.5   \n",
      "2          1693286100  2023-08-29 10:45                 26.3   \n",
      "3          1693286100  2023-08-29 10:45                 25.6   \n",
      "4          1693286100  2023-08-29 10:45                 27.2   \n",
      "\n",
      "   temperature_fahrenheit  ... air_quality_PM2.5  air_quality_PM10  \\\n",
      "0                    81.5  ...              12.6              18.5   \n",
      "1                    81.5  ...              10.7              14.2   \n",
      "2                    79.3  ...              16.8              20.7   \n",
      "3                    78.1  ...               4.9               6.6   \n",
      "4                    81.0  ...              11.4              14.8   \n",
      "\n",
      "   air_quality_us-epa-index  air_quality_gb-defra-index   sunrise    sunset  \\\n",
      "0                         1                           2  05:59 AM  06:41 PM   \n",
      "1                         1                           1  06:00 AM  06:40 PM   \n",
      "2                         2                           2  05:56 AM  06:34 PM   \n",
      "3                         1                           1  06:00 AM  06:38 PM   \n",
      "4                         1                           1  06:01 AM  06:39 PM   \n",
      "\n",
      "   moonrise   moonset      moon_phase  moon_illumination  \n",
      "0  05:42 PM  03:38 AM  Waxing Gibbous                 93  \n",
      "1  05:39 PM  03:41 AM  Waxing Gibbous                 93  \n",
      "2  05:32 PM  03:39 AM  Waxing Gibbous                 93  \n",
      "3  05:36 PM  03:43 AM  Waxing Gibbous                 93  \n",
      "4  05:38 PM  03:42 AM  Waxing Gibbous                 93  \n",
      "\n",
      "[5 rows x 42 columns]\n",
      "<class 'pandas.core.frame.DataFrame'>\n",
      "RangeIndex: 93168 entries, 0 to 93167\n",
      "Data columns (total 42 columns):\n",
      " #   Column                        Non-Null Count  Dtype  \n",
      "---  ------                        --------------  -----  \n",
      " 0   country                       93168 non-null  object \n",
      " 1   location_name                 93168 non-null  object \n",
      " 2   region                        93168 non-null  object \n",
      " 3   latitude                      93168 non-null  float64\n",
      " 4   longitude                     93168 non-null  float64\n",
      " 5   timezone                      93168 non-null  object \n",
      " 6   last_updated_epoch            93168 non-null  int64  \n",
      " 7   last_updated                  93168 non-null  object \n",
      " 8   temperature_celsius           93168 non-null  float64\n",
      " 9   temperature_fahrenheit        93168 non-null  float64\n",
      " 10  condition_text                93168 non-null  object \n",
      " 11  wind_mph                      93168 non-null  float64\n",
      " 12  wind_kph                      93168 non-null  float64\n",
      " 13  wind_degree                   93168 non-null  int64  \n",
      " 14  wind_direction                93168 non-null  object \n",
      " 15  pressure_mb                   93168 non-null  float64\n",
      " 16  pressure_in                   93168 non-null  float64\n",
      " 17  precip_mm                     93168 non-null  float64\n",
      " 18  precip_in                     93168 non-null  float64\n",
      " 19  humidity                      93168 non-null  int64  \n",
      " 20  cloud                         93168 non-null  int64  \n",
      " 21  feels_like_celsius            93168 non-null  float64\n",
      " 22  feels_like_fahrenheit         93168 non-null  float64\n",
      " 23  visibility_km                 93168 non-null  float64\n",
      " 24  visibility_miles              93168 non-null  float64\n",
      " 25  uv_index                      93168 non-null  float64\n",
      " 26  gust_mph                      93168 non-null  float64\n",
      " 27  gust_kph                      93168 non-null  float64\n",
      " 28  air_quality_Carbon_Monoxide   93168 non-null  float64\n",
      " 29  air_quality_Ozone             93168 non-null  float64\n",
      " 30  air_quality_Nitrogen_dioxide  93168 non-null  float64\n",
      " 31  air_quality_Sulphur_dioxide   93168 non-null  float64\n",
      " 32  air_quality_PM2.5             93168 non-null  float64\n",
      " 33  air_quality_PM10              93168 non-null  float64\n",
      " 34  air_quality_us-epa-index      93168 non-null  int64  \n",
      " 35  air_quality_gb-defra-index    93168 non-null  int64  \n",
      " 36  sunrise                       93168 non-null  object \n",
      " 37  sunset                        93168 non-null  object \n",
      " 38  moonrise                      93168 non-null  object \n",
      " 39  moonset                       93168 non-null  object \n",
      " 40  moon_phase                    93168 non-null  object \n",
      " 41  moon_illumination             93168 non-null  int64  \n",
      "dtypes: float64(23), int64(7), object(12)\n",
      "memory usage: 29.9+ MB\n",
      "None\n"
     ]
    }
   ],
   "source": [
    "# Explore the dataset\n",
    "print(data.head())  # Check the first few rows of the dataset\n",
    "print(data.info())   # Check data types and missing values"
   ]
  },
  {
   "cell_type": "code",
   "execution_count": 6,
   "metadata": {
    "id": "N7gDnMq7r_u0"
   },
   "outputs": [],
   "source": [
    "# Drop irrelevant columns if any\n",
    "data = data.drop(columns=['latitude','longitude','last_updated_epoch','last_updated', 'timezone','wind_mph','wind_kph','wind_degree','wind_direction','pressure_mb','pressure_mb','pressure_in',\t'precip_mm',\t'precip_in',\t'humidity',\t'cloud',\t'feels_like_celsius',\t'feels_like_fahrenheit',\t'visibility_km',\t'visibility_miles',\t'uv_index',\t'gust_mph',\t'gust_kph',\t'air_quality_Carbon_Monoxide',\t'air_quality_Ozone',\t'air_quality_Nitrogen_dioxide',\t'air_quality_Sulphur_dioxide',\t'air_quality_PM2.5',\t'air_quality_PM10',\t'air_quality_us-epa-index',\t'air_quality_gb-defra-index',\t'sunrise',\t'sunset',\t'moonrise',\t'moonset',\t'moon_phase',\t'moon_illumination'\n",
    "])"
   ]
  },
  {
   "cell_type": "code",
   "execution_count": 7,
   "metadata": {},
   "outputs": [
    {
     "data": {
      "text/html": [
       "<div>\n",
       "<style scoped>\n",
       "    .dataframe tbody tr th:only-of-type {\n",
       "        vertical-align: middle;\n",
       "    }\n",
       "\n",
       "    .dataframe tbody tr th {\n",
       "        vertical-align: top;\n",
       "    }\n",
       "\n",
       "    .dataframe thead th {\n",
       "        text-align: right;\n",
       "    }\n",
       "</style>\n",
       "<table border=\"1\" class=\"dataframe\">\n",
       "  <thead>\n",
       "    <tr style=\"text-align: right;\">\n",
       "      <th></th>\n",
       "      <th>country</th>\n",
       "      <th>location_name</th>\n",
       "      <th>region</th>\n",
       "      <th>temperature_celsius</th>\n",
       "      <th>temperature_fahrenheit</th>\n",
       "      <th>condition_text</th>\n",
       "    </tr>\n",
       "  </thead>\n",
       "  <tbody>\n",
       "    <tr>\n",
       "      <th>0</th>\n",
       "      <td>India</td>\n",
       "      <td>Ashoknagar</td>\n",
       "      <td>Madhya Pradesh</td>\n",
       "      <td>27.5</td>\n",
       "      <td>81.5</td>\n",
       "      <td>Partly cloudy</td>\n",
       "    </tr>\n",
       "    <tr>\n",
       "      <th>1</th>\n",
       "      <td>India</td>\n",
       "      <td>Raisen</td>\n",
       "      <td>Madhya Pradesh</td>\n",
       "      <td>27.5</td>\n",
       "      <td>81.5</td>\n",
       "      <td>Sunny</td>\n",
       "    </tr>\n",
       "    <tr>\n",
       "      <th>2</th>\n",
       "      <td>India</td>\n",
       "      <td>Chhindwara</td>\n",
       "      <td>Madhya Pradesh</td>\n",
       "      <td>26.3</td>\n",
       "      <td>79.3</td>\n",
       "      <td>Partly cloudy</td>\n",
       "    </tr>\n",
       "    <tr>\n",
       "      <th>3</th>\n",
       "      <td>India</td>\n",
       "      <td>Betul</td>\n",
       "      <td>Madhya Pradesh</td>\n",
       "      <td>25.6</td>\n",
       "      <td>78.1</td>\n",
       "      <td>Cloudy</td>\n",
       "    </tr>\n",
       "    <tr>\n",
       "      <th>4</th>\n",
       "      <td>India</td>\n",
       "      <td>Hoshangabad</td>\n",
       "      <td>Madhya Pradesh</td>\n",
       "      <td>27.2</td>\n",
       "      <td>81.0</td>\n",
       "      <td>Cloudy</td>\n",
       "    </tr>\n",
       "    <tr>\n",
       "      <th>...</th>\n",
       "      <td>...</td>\n",
       "      <td>...</td>\n",
       "      <td>...</td>\n",
       "      <td>...</td>\n",
       "      <td>...</td>\n",
       "      <td>...</td>\n",
       "    </tr>\n",
       "    <tr>\n",
       "      <th>93163</th>\n",
       "      <td>India</td>\n",
       "      <td>Niwari</td>\n",
       "      <td>Uttar Pradesh</td>\n",
       "      <td>19.0</td>\n",
       "      <td>66.2</td>\n",
       "      <td>Mist</td>\n",
       "    </tr>\n",
       "    <tr>\n",
       "      <th>93164</th>\n",
       "      <td>India</td>\n",
       "      <td>Saitual</td>\n",
       "      <td>Mizoram</td>\n",
       "      <td>9.7</td>\n",
       "      <td>49.5</td>\n",
       "      <td>Clear</td>\n",
       "    </tr>\n",
       "    <tr>\n",
       "      <th>93165</th>\n",
       "      <td>India</td>\n",
       "      <td>Ranipet</td>\n",
       "      <td>Tamil Nadu</td>\n",
       "      <td>20.8</td>\n",
       "      <td>69.4</td>\n",
       "      <td>Clear</td>\n",
       "    </tr>\n",
       "    <tr>\n",
       "      <th>93166</th>\n",
       "      <td>India</td>\n",
       "      <td>Tenkasi</td>\n",
       "      <td>Tamil Nadu</td>\n",
       "      <td>29.0</td>\n",
       "      <td>84.2</td>\n",
       "      <td>Mist</td>\n",
       "    </tr>\n",
       "    <tr>\n",
       "      <th>93167</th>\n",
       "      <td>India</td>\n",
       "      <td>Pendra</td>\n",
       "      <td>Maharashtra</td>\n",
       "      <td>27.9</td>\n",
       "      <td>82.2</td>\n",
       "      <td>Clear</td>\n",
       "    </tr>\n",
       "  </tbody>\n",
       "</table>\n",
       "<p>93168 rows × 6 columns</p>\n",
       "</div>"
      ],
      "text/plain": [
       "      country location_name          region  temperature_celsius  \\\n",
       "0       India    Ashoknagar  Madhya Pradesh                 27.5   \n",
       "1       India        Raisen  Madhya Pradesh                 27.5   \n",
       "2       India    Chhindwara  Madhya Pradesh                 26.3   \n",
       "3       India         Betul  Madhya Pradesh                 25.6   \n",
       "4       India   Hoshangabad  Madhya Pradesh                 27.2   \n",
       "...       ...           ...             ...                  ...   \n",
       "93163   India        Niwari   Uttar Pradesh                 19.0   \n",
       "93164   India       Saitual         Mizoram                  9.7   \n",
       "93165   India       Ranipet      Tamil Nadu                 20.8   \n",
       "93166   India       Tenkasi      Tamil Nadu                 29.0   \n",
       "93167   India        Pendra     Maharashtra                 27.9   \n",
       "\n",
       "       temperature_fahrenheit condition_text  \n",
       "0                        81.5  Partly cloudy  \n",
       "1                        81.5          Sunny  \n",
       "2                        79.3  Partly cloudy  \n",
       "3                        78.1         Cloudy  \n",
       "4                        81.0         Cloudy  \n",
       "...                       ...            ...  \n",
       "93163                    66.2           Mist  \n",
       "93164                    49.5         Clear   \n",
       "93165                    69.4         Clear   \n",
       "93166                    84.2           Mist  \n",
       "93167                    82.2         Clear   \n",
       "\n",
       "[93168 rows x 6 columns]"
      ]
     },
     "execution_count": 7,
     "metadata": {},
     "output_type": "execute_result"
    }
   ],
   "source": [
    "data"
   ]
  },
  {
   "cell_type": "code",
   "execution_count": 8,
   "metadata": {
    "colab": {
     "base_uri": "https://localhost:8080/"
    },
    "id": "VI7vb8rmRR7i",
    "outputId": "79ec07bb-ae6f-4a60-a0a5-306924797938"
   },
   "outputs": [
    {
     "name": "stdout",
     "output_type": "stream",
     "text": [
      "<class 'pandas.core.frame.DataFrame'>\n",
      "RangeIndex: 93168 entries, 0 to 93167\n",
      "Data columns (total 6 columns):\n",
      " #   Column                  Non-Null Count  Dtype  \n",
      "---  ------                  --------------  -----  \n",
      " 0   country                 93168 non-null  object \n",
      " 1   location_name           93168 non-null  object \n",
      " 2   region                  93168 non-null  object \n",
      " 3   temperature_celsius     93168 non-null  float64\n",
      " 4   temperature_fahrenheit  93168 non-null  float64\n",
      " 5   condition_text          93168 non-null  object \n",
      "dtypes: float64(2), object(4)\n",
      "memory usage: 4.3+ MB\n"
     ]
    }
   ],
   "source": [
    "data.info()"
   ]
  },
  {
   "cell_type": "code",
   "execution_count": 9,
   "metadata": {
    "colab": {
     "base_uri": "https://localhost:8080/"
    },
    "id": "nX4XT_5swfIm",
    "outputId": "ee79ef65-7992-493e-ef98-58c26b6a5953"
   },
   "outputs": [
    {
     "name": "stdout",
     "output_type": "stream",
     "text": [
      "      country location_name          region  temperature_celsius  \\\n",
      "0       India    Ashoknagar  Madhya Pradesh                 27.5   \n",
      "1       India        Raisen  Madhya Pradesh                 27.5   \n",
      "2       India    Chhindwara  Madhya Pradesh                 26.3   \n",
      "3       India         Betul  Madhya Pradesh                 25.6   \n",
      "4       India   Hoshangabad  Madhya Pradesh                 27.2   \n",
      "...       ...           ...             ...                  ...   \n",
      "93163   India        Niwari   Uttar Pradesh                 19.0   \n",
      "93164   India       Saitual         Mizoram                  9.7   \n",
      "93165   India       Ranipet      Tamil Nadu                 20.8   \n",
      "93166   India       Tenkasi      Tamil Nadu                 29.0   \n",
      "93167   India        Pendra     Maharashtra                 27.9   \n",
      "\n",
      "       temperature_fahrenheit condition_text  \n",
      "0                        81.5  Partly cloudy  \n",
      "1                        81.5          Sunny  \n",
      "2                        79.3  Partly cloudy  \n",
      "3                        78.1         Cloudy  \n",
      "4                        81.0         Cloudy  \n",
      "...                       ...            ...  \n",
      "93163                    66.2           Mist  \n",
      "93164                    49.5         Clear   \n",
      "93165                    69.4         Clear   \n",
      "93166                    84.2           Mist  \n",
      "93167                    82.2         Clear   \n",
      "\n",
      "[93168 rows x 6 columns]\n"
     ]
    }
   ],
   "source": [
    "# Handle missing values if any\n",
    "data.dropna(inplace=True)  # Remove rows with missing values\n",
    "print(data)"
   ]
  },
  {
   "cell_type": "code",
   "execution_count": 10,
   "metadata": {
    "id": "l2kUOm62sK0P"
   },
   "outputs": [],
   "source": [
    "# Encode categorical variables\n",
    "label_encoders = {}\n",
    "categorical_columns = ['country', 'location_name', 'region', 'condition_text']\n",
    "for column in categorical_columns:\n",
    "    label_encoders[column] = LabelEncoder()\n",
    "    data[column] = label_encoders[column].fit_transform(data[column])"
   ]
  },
  {
   "cell_type": "code",
   "execution_count": 11,
   "metadata": {
    "id": "gjPwgVUysN15"
   },
   "outputs": [],
   "source": [
    "# Convert the dictionary to a DataFrame\n",
    "data_df = pd.DataFrame(data)\n",
    "\n",
    "# Define the numerical columns\n",
    "numerical_columns = ['temperature_celsius', 'temperature_fahrenheit']"
   ]
  },
  {
   "cell_type": "code",
   "execution_count": 12,
   "metadata": {
    "id": "GBDR3_myAtgz"
   },
   "outputs": [],
   "source": [
    "# Standardize the numerical columns\n",
    "scaler=StandardScaler()\n",
    "data_df[numerical_columns] = scaler.fit_transform(data_df[numerical_columns])"
   ]
  },
  {
   "cell_type": "code",
   "execution_count": 13,
   "metadata": {
    "id": "Hqx5-cLWznGa"
   },
   "outputs": [],
   "source": [
    "# Example data\n",
    "data ={'condition_text': ['Partly cloudy', 'Sunny\t', 'Cloudy', 'Mist', 'Patchy rain possible','Overcast', 'Patchy light rain with thunder']}\n",
    "df = pd.DataFrame(data)"
   ]
  },
  {
   "cell_type": "code",
   "execution_count": 14,
   "metadata": {},
   "outputs": [
    {
     "data": {
      "text/html": [
       "<div>\n",
       "<style scoped>\n",
       "    .dataframe tbody tr th:only-of-type {\n",
       "        vertical-align: middle;\n",
       "    }\n",
       "\n",
       "    .dataframe tbody tr th {\n",
       "        vertical-align: top;\n",
       "    }\n",
       "\n",
       "    .dataframe thead th {\n",
       "        text-align: right;\n",
       "    }\n",
       "</style>\n",
       "<table border=\"1\" class=\"dataframe\">\n",
       "  <thead>\n",
       "    <tr style=\"text-align: right;\">\n",
       "      <th></th>\n",
       "      <th>condition_text</th>\n",
       "    </tr>\n",
       "  </thead>\n",
       "  <tbody>\n",
       "    <tr>\n",
       "      <th>0</th>\n",
       "      <td>Partly cloudy</td>\n",
       "    </tr>\n",
       "    <tr>\n",
       "      <th>1</th>\n",
       "      <td>Sunny\\t</td>\n",
       "    </tr>\n",
       "    <tr>\n",
       "      <th>2</th>\n",
       "      <td>Cloudy</td>\n",
       "    </tr>\n",
       "    <tr>\n",
       "      <th>3</th>\n",
       "      <td>Mist</td>\n",
       "    </tr>\n",
       "    <tr>\n",
       "      <th>4</th>\n",
       "      <td>Patchy rain possible</td>\n",
       "    </tr>\n",
       "    <tr>\n",
       "      <th>5</th>\n",
       "      <td>Overcast</td>\n",
       "    </tr>\n",
       "    <tr>\n",
       "      <th>6</th>\n",
       "      <td>Patchy light rain with thunder</td>\n",
       "    </tr>\n",
       "  </tbody>\n",
       "</table>\n",
       "</div>"
      ],
      "text/plain": [
       "                   condition_text\n",
       "0                   Partly cloudy\n",
       "1                         Sunny\\t\n",
       "2                          Cloudy\n",
       "3                            Mist\n",
       "4            Patchy rain possible\n",
       "5                        Overcast\n",
       "6  Patchy light rain with thunder"
      ]
     },
     "execution_count": 14,
     "metadata": {},
     "output_type": "execute_result"
    }
   ],
   "source": [
    "df"
   ]
  },
  {
   "cell_type": "code",
   "execution_count": 15,
   "metadata": {
    "id": "wYHT-cJIzqQ1"
   },
   "outputs": [],
   "source": [
    "# Perform one-hot encoding\n",
    "one_hot_encoded = pd.get_dummies(df['condition_text'])"
   ]
  },
  {
   "cell_type": "code",
   "execution_count": 16,
   "metadata": {
    "colab": {
     "base_uri": "https://localhost:8080/"
    },
    "id": "UT5RJTk-zsG1",
    "outputId": "8f6c0326-4814-4e4f-ea86-7e65100e7c9e"
   },
   "outputs": [
    {
     "name": "stdout",
     "output_type": "stream",
     "text": [
      "                   condition_text  Cloudy  Mist  Overcast  Partly cloudy  \\\n",
      "0                   Partly cloudy       0     0         0              1   \n",
      "1                         Sunny\\t       0     0         0              0   \n",
      "2                          Cloudy       1     0         0              0   \n",
      "3                            Mist       0     1         0              0   \n",
      "4            Patchy rain possible       0     0         0              0   \n",
      "5                        Overcast       0     0         1              0   \n",
      "6  Patchy light rain with thunder       0     0         0              0   \n",
      "\n",
      "   Patchy light rain with thunder  Patchy rain possible  Sunny\\t  \n",
      "0                               0                     0        0  \n",
      "1                               0                     0        1  \n",
      "2                               0                     0        0  \n",
      "3                               0                     0        0  \n",
      "4                               0                     1        0  \n",
      "5                               0                     0        0  \n",
      "6                               1                     0        0  \n"
     ]
    }
   ],
   "source": [
    "# Concatenate the one-hot encoded columns with the original dataframe\n",
    "data_encoded = pd.concat([df, one_hot_encoded], axis=1)\n",
    "\n",
    "print(data_encoded)"
   ]
  },
  {
   "cell_type": "code",
   "execution_count": 17,
   "metadata": {
    "colab": {
     "base_uri": "https://localhost:8080/",
     "height": 206
    },
    "id": "RV73BZJR_ID4",
    "outputId": "797a6616-824c-448b-f6a1-dba1777b34d1"
   },
   "outputs": [
    {
     "data": {
      "text/html": [
       "<div>\n",
       "<style scoped>\n",
       "    .dataframe tbody tr th:only-of-type {\n",
       "        vertical-align: middle;\n",
       "    }\n",
       "\n",
       "    .dataframe tbody tr th {\n",
       "        vertical-align: top;\n",
       "    }\n",
       "\n",
       "    .dataframe thead th {\n",
       "        text-align: right;\n",
       "    }\n",
       "</style>\n",
       "<table border=\"1\" class=\"dataframe\">\n",
       "  <thead>\n",
       "    <tr style=\"text-align: right;\">\n",
       "      <th></th>\n",
       "      <th>condition_text</th>\n",
       "      <th>Cloudy</th>\n",
       "      <th>Mist</th>\n",
       "      <th>Overcast</th>\n",
       "      <th>Partly cloudy</th>\n",
       "      <th>Patchy light rain with thunder</th>\n",
       "      <th>Patchy rain possible</th>\n",
       "      <th>Sunny\\t</th>\n",
       "    </tr>\n",
       "  </thead>\n",
       "  <tbody>\n",
       "    <tr>\n",
       "      <th>0</th>\n",
       "      <td>Partly cloudy</td>\n",
       "      <td>0</td>\n",
       "      <td>0</td>\n",
       "      <td>0</td>\n",
       "      <td>1</td>\n",
       "      <td>0</td>\n",
       "      <td>0</td>\n",
       "      <td>0</td>\n",
       "    </tr>\n",
       "    <tr>\n",
       "      <th>1</th>\n",
       "      <td>Sunny\\t</td>\n",
       "      <td>0</td>\n",
       "      <td>0</td>\n",
       "      <td>0</td>\n",
       "      <td>0</td>\n",
       "      <td>0</td>\n",
       "      <td>0</td>\n",
       "      <td>1</td>\n",
       "    </tr>\n",
       "    <tr>\n",
       "      <th>2</th>\n",
       "      <td>Cloudy</td>\n",
       "      <td>1</td>\n",
       "      <td>0</td>\n",
       "      <td>0</td>\n",
       "      <td>0</td>\n",
       "      <td>0</td>\n",
       "      <td>0</td>\n",
       "      <td>0</td>\n",
       "    </tr>\n",
       "    <tr>\n",
       "      <th>3</th>\n",
       "      <td>Mist</td>\n",
       "      <td>0</td>\n",
       "      <td>1</td>\n",
       "      <td>0</td>\n",
       "      <td>0</td>\n",
       "      <td>0</td>\n",
       "      <td>0</td>\n",
       "      <td>0</td>\n",
       "    </tr>\n",
       "    <tr>\n",
       "      <th>4</th>\n",
       "      <td>Patchy rain possible</td>\n",
       "      <td>0</td>\n",
       "      <td>0</td>\n",
       "      <td>0</td>\n",
       "      <td>0</td>\n",
       "      <td>0</td>\n",
       "      <td>1</td>\n",
       "      <td>0</td>\n",
       "    </tr>\n",
       "  </tbody>\n",
       "</table>\n",
       "</div>"
      ],
      "text/plain": [
       "         condition_text  Cloudy  Mist  Overcast  Partly cloudy  \\\n",
       "0         Partly cloudy       0     0         0              1   \n",
       "1               Sunny\\t       0     0         0              0   \n",
       "2                Cloudy       1     0         0              0   \n",
       "3                  Mist       0     1         0              0   \n",
       "4  Patchy rain possible       0     0         0              0   \n",
       "\n",
       "   Patchy light rain with thunder  Patchy rain possible  Sunny\\t  \n",
       "0                               0                     0        0  \n",
       "1                               0                     0        1  \n",
       "2                               0                     0        0  \n",
       "3                               0                     0        0  \n",
       "4                               0                     1        0  "
      ]
     },
     "execution_count": 17,
     "metadata": {},
     "output_type": "execute_result"
    }
   ],
   "source": [
    "data_encoded.head()"
   ]
  },
  {
   "cell_type": "code",
   "execution_count": 18,
   "metadata": {
    "colab": {
     "base_uri": "https://localhost:8080/"
    },
    "id": "btJrXqz5_No1",
    "outputId": "5d605706-9b3c-442b-92d3-f1f2e645a254"
   },
   "outputs": [
    {
     "data": {
      "text/plain": [
       "Index(['condition_text', 'Cloudy', 'Mist', 'Overcast', 'Partly cloudy',\n",
       "       'Patchy light rain with thunder', 'Patchy rain possible', 'Sunny\\t'],\n",
       "      dtype='object')"
      ]
     },
     "execution_count": 18,
     "metadata": {},
     "output_type": "execute_result"
    }
   ],
   "source": [
    "data_encoded.columns"
   ]
  },
  {
   "cell_type": "code",
   "execution_count": 31,
   "metadata": {
    "colab": {
     "base_uri": "https://localhost:8080/",
     "height": 339
    },
    "id": "qspDCw6TsQTq",
    "outputId": "c0afbb6f-6e95-4c88-fd0b-1a3d57696b3a"
   },
   "outputs": [],
   "source": [
    "# Define features and target variable\n",
    "features = ['condition_text', 'Cloudy', 'Mist', 'Overcast', 'Partly cloudy',\n",
    "       'Patchy light rain with thunder', 'Patchy rain possible', 'Sunny\\t']\n",
    "target = 'Overcast'\n",
    "\n",
    "X = data_encoded[features]\n",
    "y = data_encoded[target]\n"
   ]
  },
  {
   "cell_type": "code",
   "execution_count": 32,
   "metadata": {
    "id": "NtsWDj3RsTIm"
   },
   "outputs": [],
   "source": [
    "# Split the dataset into training and testing sets\n",
    "X_train, X_test, y_train, y_test = train_test_split(X, y, test_size=0.2, random_state=42, shuffle=True)"
   ]
  },
  {
   "cell_type": "code",
   "execution_count": 33,
   "metadata": {
    "id": "kRp_jL3AsXlc"
   },
   "outputs": [
    {
     "ename": "ValueError",
     "evalue": "could not convert string to float: 'Overcast'",
     "output_type": "error",
     "traceback": [
      "\u001b[1;31m---------------------------------------------------------------------------\u001b[0m",
      "\u001b[1;31mValueError\u001b[0m                                Traceback (most recent call last)",
      "Cell \u001b[1;32mIn[33], line 3\u001b[0m\n\u001b[0;32m      1\u001b[0m \u001b[38;5;66;03m# Initialize and train the model\u001b[39;00m\n\u001b[0;32m      2\u001b[0m model \u001b[38;5;241m=\u001b[39m RandomForestClassifier(n_estimators\u001b[38;5;241m=\u001b[39m\u001b[38;5;241m100\u001b[39m, random_state\u001b[38;5;241m=\u001b[39m\u001b[38;5;241m42\u001b[39m)\n\u001b[1;32m----> 3\u001b[0m \u001b[43mmodel\u001b[49m\u001b[38;5;241;43m.\u001b[39;49m\u001b[43mfit\u001b[49m\u001b[43m(\u001b[49m\u001b[43mX_train\u001b[49m\u001b[43m,\u001b[49m\u001b[43m \u001b[49m\u001b[43my_train\u001b[49m\u001b[43m)\u001b[49m\n",
      "File \u001b[1;32m~\\anaconda3\\lib\\site-packages\\sklearn\\ensemble\\_forest.py:345\u001b[0m, in \u001b[0;36mBaseForest.fit\u001b[1;34m(self, X, y, sample_weight)\u001b[0m\n\u001b[0;32m    343\u001b[0m \u001b[38;5;28;01mif\u001b[39;00m issparse(y):\n\u001b[0;32m    344\u001b[0m     \u001b[38;5;28;01mraise\u001b[39;00m \u001b[38;5;167;01mValueError\u001b[39;00m(\u001b[38;5;124m\"\u001b[39m\u001b[38;5;124msparse multilabel-indicator for y is not supported.\u001b[39m\u001b[38;5;124m\"\u001b[39m)\n\u001b[1;32m--> 345\u001b[0m X, y \u001b[38;5;241m=\u001b[39m \u001b[38;5;28;43mself\u001b[39;49m\u001b[38;5;241;43m.\u001b[39;49m\u001b[43m_validate_data\u001b[49m\u001b[43m(\u001b[49m\n\u001b[0;32m    346\u001b[0m \u001b[43m    \u001b[49m\u001b[43mX\u001b[49m\u001b[43m,\u001b[49m\u001b[43m \u001b[49m\u001b[43my\u001b[49m\u001b[43m,\u001b[49m\u001b[43m \u001b[49m\u001b[43mmulti_output\u001b[49m\u001b[38;5;241;43m=\u001b[39;49m\u001b[38;5;28;43;01mTrue\u001b[39;49;00m\u001b[43m,\u001b[49m\u001b[43m \u001b[49m\u001b[43maccept_sparse\u001b[49m\u001b[38;5;241;43m=\u001b[39;49m\u001b[38;5;124;43m\"\u001b[39;49m\u001b[38;5;124;43mcsc\u001b[39;49m\u001b[38;5;124;43m\"\u001b[39;49m\u001b[43m,\u001b[49m\u001b[43m \u001b[49m\u001b[43mdtype\u001b[49m\u001b[38;5;241;43m=\u001b[39;49m\u001b[43mDTYPE\u001b[49m\n\u001b[0;32m    347\u001b[0m \u001b[43m\u001b[49m\u001b[43m)\u001b[49m\n\u001b[0;32m    348\u001b[0m \u001b[38;5;28;01mif\u001b[39;00m sample_weight \u001b[38;5;129;01mis\u001b[39;00m \u001b[38;5;129;01mnot\u001b[39;00m \u001b[38;5;28;01mNone\u001b[39;00m:\n\u001b[0;32m    349\u001b[0m     sample_weight \u001b[38;5;241m=\u001b[39m _check_sample_weight(sample_weight, X)\n",
      "File \u001b[1;32m~\\anaconda3\\lib\\site-packages\\sklearn\\base.py:565\u001b[0m, in \u001b[0;36mBaseEstimator._validate_data\u001b[1;34m(self, X, y, reset, validate_separately, **check_params)\u001b[0m\n\u001b[0;32m    563\u001b[0m         y \u001b[38;5;241m=\u001b[39m check_array(y, input_name\u001b[38;5;241m=\u001b[39m\u001b[38;5;124m\"\u001b[39m\u001b[38;5;124my\u001b[39m\u001b[38;5;124m\"\u001b[39m, \u001b[38;5;241m*\u001b[39m\u001b[38;5;241m*\u001b[39mcheck_y_params)\n\u001b[0;32m    564\u001b[0m     \u001b[38;5;28;01melse\u001b[39;00m:\n\u001b[1;32m--> 565\u001b[0m         X, y \u001b[38;5;241m=\u001b[39m check_X_y(X, y, \u001b[38;5;241m*\u001b[39m\u001b[38;5;241m*\u001b[39mcheck_params)\n\u001b[0;32m    566\u001b[0m     out \u001b[38;5;241m=\u001b[39m X, y\n\u001b[0;32m    568\u001b[0m \u001b[38;5;28;01mif\u001b[39;00m \u001b[38;5;129;01mnot\u001b[39;00m no_val_X \u001b[38;5;129;01mand\u001b[39;00m check_params\u001b[38;5;241m.\u001b[39mget(\u001b[38;5;124m\"\u001b[39m\u001b[38;5;124mensure_2d\u001b[39m\u001b[38;5;124m\"\u001b[39m, \u001b[38;5;28;01mTrue\u001b[39;00m):\n",
      "File \u001b[1;32m~\\anaconda3\\lib\\site-packages\\sklearn\\utils\\validation.py:1106\u001b[0m, in \u001b[0;36mcheck_X_y\u001b[1;34m(X, y, accept_sparse, accept_large_sparse, dtype, order, copy, force_all_finite, ensure_2d, allow_nd, multi_output, ensure_min_samples, ensure_min_features, y_numeric, estimator)\u001b[0m\n\u001b[0;32m   1101\u001b[0m         estimator_name \u001b[38;5;241m=\u001b[39m _check_estimator_name(estimator)\n\u001b[0;32m   1102\u001b[0m     \u001b[38;5;28;01mraise\u001b[39;00m \u001b[38;5;167;01mValueError\u001b[39;00m(\n\u001b[0;32m   1103\u001b[0m         \u001b[38;5;124mf\u001b[39m\u001b[38;5;124m\"\u001b[39m\u001b[38;5;132;01m{\u001b[39;00mestimator_name\u001b[38;5;132;01m}\u001b[39;00m\u001b[38;5;124m requires y to be passed, but the target y is None\u001b[39m\u001b[38;5;124m\"\u001b[39m\n\u001b[0;32m   1104\u001b[0m     )\n\u001b[1;32m-> 1106\u001b[0m X \u001b[38;5;241m=\u001b[39m \u001b[43mcheck_array\u001b[49m\u001b[43m(\u001b[49m\n\u001b[0;32m   1107\u001b[0m \u001b[43m    \u001b[49m\u001b[43mX\u001b[49m\u001b[43m,\u001b[49m\n\u001b[0;32m   1108\u001b[0m \u001b[43m    \u001b[49m\u001b[43maccept_sparse\u001b[49m\u001b[38;5;241;43m=\u001b[39;49m\u001b[43maccept_sparse\u001b[49m\u001b[43m,\u001b[49m\n\u001b[0;32m   1109\u001b[0m \u001b[43m    \u001b[49m\u001b[43maccept_large_sparse\u001b[49m\u001b[38;5;241;43m=\u001b[39;49m\u001b[43maccept_large_sparse\u001b[49m\u001b[43m,\u001b[49m\n\u001b[0;32m   1110\u001b[0m \u001b[43m    \u001b[49m\u001b[43mdtype\u001b[49m\u001b[38;5;241;43m=\u001b[39;49m\u001b[43mdtype\u001b[49m\u001b[43m,\u001b[49m\n\u001b[0;32m   1111\u001b[0m \u001b[43m    \u001b[49m\u001b[43morder\u001b[49m\u001b[38;5;241;43m=\u001b[39;49m\u001b[43morder\u001b[49m\u001b[43m,\u001b[49m\n\u001b[0;32m   1112\u001b[0m \u001b[43m    \u001b[49m\u001b[43mcopy\u001b[49m\u001b[38;5;241;43m=\u001b[39;49m\u001b[43mcopy\u001b[49m\u001b[43m,\u001b[49m\n\u001b[0;32m   1113\u001b[0m \u001b[43m    \u001b[49m\u001b[43mforce_all_finite\u001b[49m\u001b[38;5;241;43m=\u001b[39;49m\u001b[43mforce_all_finite\u001b[49m\u001b[43m,\u001b[49m\n\u001b[0;32m   1114\u001b[0m \u001b[43m    \u001b[49m\u001b[43mensure_2d\u001b[49m\u001b[38;5;241;43m=\u001b[39;49m\u001b[43mensure_2d\u001b[49m\u001b[43m,\u001b[49m\n\u001b[0;32m   1115\u001b[0m \u001b[43m    \u001b[49m\u001b[43mallow_nd\u001b[49m\u001b[38;5;241;43m=\u001b[39;49m\u001b[43mallow_nd\u001b[49m\u001b[43m,\u001b[49m\n\u001b[0;32m   1116\u001b[0m \u001b[43m    \u001b[49m\u001b[43mensure_min_samples\u001b[49m\u001b[38;5;241;43m=\u001b[39;49m\u001b[43mensure_min_samples\u001b[49m\u001b[43m,\u001b[49m\n\u001b[0;32m   1117\u001b[0m \u001b[43m    \u001b[49m\u001b[43mensure_min_features\u001b[49m\u001b[38;5;241;43m=\u001b[39;49m\u001b[43mensure_min_features\u001b[49m\u001b[43m,\u001b[49m\n\u001b[0;32m   1118\u001b[0m \u001b[43m    \u001b[49m\u001b[43mestimator\u001b[49m\u001b[38;5;241;43m=\u001b[39;49m\u001b[43mestimator\u001b[49m\u001b[43m,\u001b[49m\n\u001b[0;32m   1119\u001b[0m \u001b[43m    \u001b[49m\u001b[43minput_name\u001b[49m\u001b[38;5;241;43m=\u001b[39;49m\u001b[38;5;124;43m\"\u001b[39;49m\u001b[38;5;124;43mX\u001b[39;49m\u001b[38;5;124;43m\"\u001b[39;49m\u001b[43m,\u001b[49m\n\u001b[0;32m   1120\u001b[0m \u001b[43m\u001b[49m\u001b[43m)\u001b[49m\n\u001b[0;32m   1122\u001b[0m y \u001b[38;5;241m=\u001b[39m _check_y(y, multi_output\u001b[38;5;241m=\u001b[39mmulti_output, y_numeric\u001b[38;5;241m=\u001b[39my_numeric, estimator\u001b[38;5;241m=\u001b[39mestimator)\n\u001b[0;32m   1124\u001b[0m check_consistent_length(X, y)\n",
      "File \u001b[1;32m~\\anaconda3\\lib\\site-packages\\sklearn\\utils\\validation.py:879\u001b[0m, in \u001b[0;36mcheck_array\u001b[1;34m(array, accept_sparse, accept_large_sparse, dtype, order, copy, force_all_finite, ensure_2d, allow_nd, ensure_min_samples, ensure_min_features, estimator, input_name)\u001b[0m\n\u001b[0;32m    877\u001b[0m         array \u001b[38;5;241m=\u001b[39m xp\u001b[38;5;241m.\u001b[39mastype(array, dtype, copy\u001b[38;5;241m=\u001b[39m\u001b[38;5;28;01mFalse\u001b[39;00m)\n\u001b[0;32m    878\u001b[0m     \u001b[38;5;28;01melse\u001b[39;00m:\n\u001b[1;32m--> 879\u001b[0m         array \u001b[38;5;241m=\u001b[39m \u001b[43m_asarray_with_order\u001b[49m\u001b[43m(\u001b[49m\u001b[43marray\u001b[49m\u001b[43m,\u001b[49m\u001b[43m \u001b[49m\u001b[43morder\u001b[49m\u001b[38;5;241;43m=\u001b[39;49m\u001b[43morder\u001b[49m\u001b[43m,\u001b[49m\u001b[43m \u001b[49m\u001b[43mdtype\u001b[49m\u001b[38;5;241;43m=\u001b[39;49m\u001b[43mdtype\u001b[49m\u001b[43m,\u001b[49m\u001b[43m \u001b[49m\u001b[43mxp\u001b[49m\u001b[38;5;241;43m=\u001b[39;49m\u001b[43mxp\u001b[49m\u001b[43m)\u001b[49m\n\u001b[0;32m    880\u001b[0m \u001b[38;5;28;01mexcept\u001b[39;00m ComplexWarning \u001b[38;5;28;01mas\u001b[39;00m complex_warning:\n\u001b[0;32m    881\u001b[0m     \u001b[38;5;28;01mraise\u001b[39;00m \u001b[38;5;167;01mValueError\u001b[39;00m(\n\u001b[0;32m    882\u001b[0m         \u001b[38;5;124m\"\u001b[39m\u001b[38;5;124mComplex data not supported\u001b[39m\u001b[38;5;130;01m\\n\u001b[39;00m\u001b[38;5;132;01m{}\u001b[39;00m\u001b[38;5;130;01m\\n\u001b[39;00m\u001b[38;5;124m\"\u001b[39m\u001b[38;5;241m.\u001b[39mformat(array)\n\u001b[0;32m    883\u001b[0m     ) \u001b[38;5;28;01mfrom\u001b[39;00m \u001b[38;5;21;01mcomplex_warning\u001b[39;00m\n",
      "File \u001b[1;32m~\\anaconda3\\lib\\site-packages\\sklearn\\utils\\_array_api.py:185\u001b[0m, in \u001b[0;36m_asarray_with_order\u001b[1;34m(array, dtype, order, copy, xp)\u001b[0m\n\u001b[0;32m    182\u001b[0m     xp, _ \u001b[38;5;241m=\u001b[39m get_namespace(array)\n\u001b[0;32m    183\u001b[0m \u001b[38;5;28;01mif\u001b[39;00m xp\u001b[38;5;241m.\u001b[39m\u001b[38;5;18m__name__\u001b[39m \u001b[38;5;129;01min\u001b[39;00m {\u001b[38;5;124m\"\u001b[39m\u001b[38;5;124mnumpy\u001b[39m\u001b[38;5;124m\"\u001b[39m, \u001b[38;5;124m\"\u001b[39m\u001b[38;5;124mnumpy.array_api\u001b[39m\u001b[38;5;124m\"\u001b[39m}:\n\u001b[0;32m    184\u001b[0m     \u001b[38;5;66;03m# Use NumPy API to support order\u001b[39;00m\n\u001b[1;32m--> 185\u001b[0m     array \u001b[38;5;241m=\u001b[39m \u001b[43mnumpy\u001b[49m\u001b[38;5;241;43m.\u001b[39;49m\u001b[43masarray\u001b[49m\u001b[43m(\u001b[49m\u001b[43marray\u001b[49m\u001b[43m,\u001b[49m\u001b[43m \u001b[49m\u001b[43morder\u001b[49m\u001b[38;5;241;43m=\u001b[39;49m\u001b[43morder\u001b[49m\u001b[43m,\u001b[49m\u001b[43m \u001b[49m\u001b[43mdtype\u001b[49m\u001b[38;5;241;43m=\u001b[39;49m\u001b[43mdtype\u001b[49m\u001b[43m)\u001b[49m\n\u001b[0;32m    186\u001b[0m     \u001b[38;5;28;01mreturn\u001b[39;00m xp\u001b[38;5;241m.\u001b[39masarray(array, copy\u001b[38;5;241m=\u001b[39mcopy)\n\u001b[0;32m    187\u001b[0m \u001b[38;5;28;01melse\u001b[39;00m:\n",
      "File \u001b[1;32m~\\anaconda3\\lib\\site-packages\\pandas\\core\\generic.py:2070\u001b[0m, in \u001b[0;36mNDFrame.__array__\u001b[1;34m(self, dtype)\u001b[0m\n\u001b[0;32m   2069\u001b[0m \u001b[38;5;28;01mdef\u001b[39;00m \u001b[38;5;21m__array__\u001b[39m(\u001b[38;5;28mself\u001b[39m, dtype: npt\u001b[38;5;241m.\u001b[39mDTypeLike \u001b[38;5;241m|\u001b[39m \u001b[38;5;28;01mNone\u001b[39;00m \u001b[38;5;241m=\u001b[39m \u001b[38;5;28;01mNone\u001b[39;00m) \u001b[38;5;241m-\u001b[39m\u001b[38;5;241m>\u001b[39m np\u001b[38;5;241m.\u001b[39mndarray:\n\u001b[1;32m-> 2070\u001b[0m     \u001b[38;5;28;01mreturn\u001b[39;00m \u001b[43mnp\u001b[49m\u001b[38;5;241;43m.\u001b[39;49m\u001b[43masarray\u001b[49m\u001b[43m(\u001b[49m\u001b[38;5;28;43mself\u001b[39;49m\u001b[38;5;241;43m.\u001b[39;49m\u001b[43m_values\u001b[49m\u001b[43m,\u001b[49m\u001b[43m \u001b[49m\u001b[43mdtype\u001b[49m\u001b[38;5;241;43m=\u001b[39;49m\u001b[43mdtype\u001b[49m\u001b[43m)\u001b[49m\n",
      "\u001b[1;31mValueError\u001b[0m: could not convert string to float: 'Overcast'"
     ]
    }
   ],
   "source": [
    "# Initialize and train the model\n",
    "model = RandomForestClassifier(n_estimators=100, random_state=42)\n",
    "model.fit(X_train, y_train)\n"
   ]
  },
  {
   "cell_type": "code",
   "execution_count": null,
   "metadata": {
    "id": "X2jBVjajsZjP"
   },
   "outputs": [],
   "source": [
    "# Make predictions\n",
    "y_pred = model.predict(X_test)"
   ]
  },
  {
   "cell_type": "code",
   "execution_count": null,
   "metadata": {
    "id": "FJKQBmWZsbrU"
   },
   "outputs": [],
   "source": [
    "# Evaluate the model\n",
    "print(\"Accuracy:\", accuracy_score(y_test, y_pred))\n",
    "print(classification_report(y_test, y_pred))"
   ]
  },
  {
   "cell_type": "code",
   "execution_count": null,
   "metadata": {
    "id": "5Kk7Qwu0sqeX"
   },
   "outputs": [],
   "source": [
    "# Create a confusion matrix\n",
    "cm = confusion_matrix(y_test, y_pred)\n",
    "\n",
    "# Visualize the confusion matrix\n",
    "plt.figure(figsize=(8, 6))\n",
    "sns.heatmap(cm, annot=True, fmt=\"d\", cmap=\"Blues\", cbar=False)\n",
    "plt.xlabel('Predicted labels')\n",
    "plt.ylabel('True labels')\n",
    "plt.title('Confusion Matrix')\n",
    "plt.show()"
   ]
  }
 ],
 "metadata": {
  "accelerator": "GPU",
  "colab": {
   "gpuType": "T4",
   "provenance": []
  },
  "kernelspec": {
   "display_name": "Python 3 (ipykernel)",
   "language": "python",
   "name": "python3"
  },
  "language_info": {
   "codemirror_mode": {
    "name": "ipython",
    "version": 3
   },
   "file_extension": ".py",
   "mimetype": "text/x-python",
   "name": "python",
   "nbconvert_exporter": "python",
   "pygments_lexer": "ipython3",
   "version": "3.10.9"
  }
 },
 "nbformat": 4,
 "nbformat_minor": 1
}
